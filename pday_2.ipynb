{
  "nbformat": 4,
  "nbformat_minor": 0,
  "metadata": {
    "colab": {
      "name": "pday_2.ipynb",
      "provenance": []
    },
    "kernelspec": {
      "name": "python3",
      "display_name": "Python 3"
    },
    "language_info": {
      "name": "python"
    }
  },
  "cells": [
    {
      "cell_type": "markdown",
      "metadata": {
        "id": "HXL-e2wUa5rx"
      },
      "source": [
        "### Taking input from user"
      ]
    },
    {
      "cell_type": "code",
      "metadata": {
        "colab": {
          "base_uri": "https://localhost:8080/"
        },
        "id": "NM54Gkxsa_IS",
        "outputId": "6cd87f09-5262-4960-fc6c-566eb0cab4ac"
      },
      "source": [
        "x=input()\n",
        "print(x)"
      ],
      "execution_count": 1,
      "outputs": [
        {
          "output_type": "stream",
          "name": "stdout",
          "text": [
            "37.5\n",
            "37.5\n"
          ]
        }
      ]
    },
    {
      "cell_type": "code",
      "metadata": {
        "colab": {
          "base_uri": "https://localhost:8080/"
        },
        "id": "frUC3J9kbF-b",
        "outputId": "4ff04fbf-e4e7-4949-dda8-79a3e7b0b075"
      },
      "source": [
        "x=input(\"Please enter a number\")\n",
        "y=x+x\n",
        "print(y)"
      ],
      "execution_count": 2,
      "outputs": [
        {
          "output_type": "stream",
          "name": "stdout",
          "text": [
            "Please enter a number16\n",
            "1616\n"
          ]
        }
      ]
    },
    {
      "cell_type": "code",
      "metadata": {
        "colab": {
          "base_uri": "https://localhost:8080/"
        },
        "id": "pnGurfxnbYta",
        "outputId": "a63536be-c068-4c20-b048-ab1b568628de"
      },
      "source": [
        "#typecasting\n",
        "x=int(input(\"Please enter a number \"))\n",
        "y=x+x\n",
        "print(y)\n",
        "print(type(x))"
      ],
      "execution_count": 5,
      "outputs": [
        {
          "output_type": "stream",
          "name": "stdout",
          "text": [
            "Please enter a number 16\n",
            "32\n",
            "<class 'int'>\n"
          ]
        }
      ]
    },
    {
      "cell_type": "markdown",
      "metadata": {
        "id": "uexRQaUNcIkI"
      },
      "source": [
        "## Functions"
      ]
    },
    {
      "cell_type": "code",
      "metadata": {
        "id": "J8mqQuSscPXe"
      },
      "source": [
        "def my_func():\n",
        " print(\"Let's explore functions\")"
      ],
      "execution_count": 8,
      "outputs": []
    },
    {
      "cell_type": "code",
      "metadata": {
        "colab": {
          "base_uri": "https://localhost:8080/"
        },
        "id": "cWINDKPicbwV",
        "outputId": "554182f8-b597-470d-f273-79c2e3235fe2"
      },
      "source": [
        "my_func()"
      ],
      "execution_count": 9,
      "outputs": [
        {
          "output_type": "stream",
          "name": "stdout",
          "text": [
            "Let's explore functions\n"
          ]
        }
      ]
    },
    {
      "cell_type": "code",
      "metadata": {
        "id": "2AymDCLKckOW"
      },
      "source": [
        "#Passing arguments\n",
        "def my_function(x):\n",
        "  a=x**2+2*x+5\n",
        "  print(a)\n",
        " "
      ],
      "execution_count": 10,
      "outputs": []
    },
    {
      "cell_type": "code",
      "metadata": {
        "colab": {
          "base_uri": "https://localhost:8080/"
        },
        "id": "81KDKfx9dDLi",
        "outputId": "6f2192cc-7f76-4fd3-bcb0-720e81d44a72"
      },
      "source": [
        "my_function(10)"
      ],
      "execution_count": 11,
      "outputs": [
        {
          "output_type": "stream",
          "name": "stdout",
          "text": [
            "125\n"
          ]
        }
      ]
    },
    {
      "cell_type": "markdown",
      "metadata": {
        "id": "WGWFIw4Je531"
      },
      "source": [
        "### Arbitrary arguments: add * before parameter name"
      ]
    },
    {
      "cell_type": "code",
      "metadata": {
        "id": "0erFanPgdHFh"
      },
      "source": [
        "def my_function(*kids):\n",
        "  for i in kids:\n",
        "    print(i)\n",
        "  print(\"The youngest child is \",kids[3])"
      ],
      "execution_count": 14,
      "outputs": []
    },
    {
      "cell_type": "code",
      "metadata": {
        "colab": {
          "base_uri": "https://localhost:8080/"
        },
        "id": "RlvZae4UiMzd",
        "outputId": "0f58160d-33c1-4c1b-f3e6-c35ed61f1c4d"
      },
      "source": [
        "my_function(\"Sam\",\"Gunjan\",\"Puja\",\"Anureet\",\"Liba\")"
      ],
      "execution_count": 15,
      "outputs": [
        {
          "output_type": "stream",
          "name": "stdout",
          "text": [
            "Sam\n",
            "Gunjan\n",
            "Puja\n",
            "Anureet\n",
            "Liba\n",
            "The youngest child is  Anureet\n"
          ]
        }
      ]
    },
    {
      "cell_type": "code",
      "metadata": {
        "colab": {
          "base_uri": "https://localhost:8080/"
        },
        "id": "XJJuEXkSiV16",
        "outputId": "ee5da51e-c889-4c5a-ca35-d1117f836bab"
      },
      "source": [
        "#add ** before name incase of unknown keyword argument\n",
        "def my_function(**kids):\n",
        "  print(\"Her last name is \" + kids[\"lname\"])\n",
        "my_function(fname=\"Samantha\", lname=\"Rath\")"
      ],
      "execution_count": 1,
      "outputs": [
        {
          "output_type": "stream",
          "name": "stdout",
          "text": [
            "Her last name is Rath\n"
          ]
        }
      ]
    },
    {
      "cell_type": "markdown",
      "metadata": {
        "id": "d6TSm5e54Xnx"
      },
      "source": [
        "### Default parameter value\n",
        "\n"
      ]
    },
    {
      "cell_type": "code",
      "metadata": {
        "id": "1Vpocxpu4aFS"
      },
      "source": [
        "def my_func(age=\"22\"):\n",
        "  print(\"My age is \", age)\n",
        "  "
      ],
      "execution_count": 2,
      "outputs": []
    },
    {
      "cell_type": "code",
      "metadata": {
        "colab": {
          "base_uri": "https://localhost:8080/"
        },
        "id": "5j3I921j4mA4",
        "outputId": "f11d6640-7e0f-418d-a1e4-b8a9d5fb9f2a"
      },
      "source": [
        "my_func(27)\n",
        "my_func()"
      ],
      "execution_count": 3,
      "outputs": [
        {
          "output_type": "stream",
          "name": "stdout",
          "text": [
            "My age is  27\n",
            "My age is  22\n"
          ]
        }
      ]
    },
    {
      "cell_type": "markdown",
      "metadata": {
        "id": "vpC2Vutd40-D"
      },
      "source": [
        "### Pass statement"
      ]
    },
    {
      "cell_type": "code",
      "metadata": {
        "id": "VAi1jxXG46m0"
      },
      "source": [
        "def ab():\n",
        "  pass"
      ],
      "execution_count": 4,
      "outputs": []
    },
    {
      "cell_type": "code",
      "metadata": {
        "id": "oYluo2xS5A5O"
      },
      "source": [
        "ab()"
      ],
      "execution_count": 5,
      "outputs": []
    },
    {
      "cell_type": "markdown",
      "metadata": {
        "id": "hz-wC8YE5FXd"
      },
      "source": [
        "### Lambda"
      ]
    },
    {
      "cell_type": "code",
      "metadata": {
        "colab": {
          "base_uri": "https://localhost:8080/"
        },
        "id": "IvFe_UDM5Gxd",
        "outputId": "2ac155f8-9f18-4e26-f4b8-2fb587eef08c"
      },
      "source": [
        "x = lambda a : a*10\n",
        "print(x(5))"
      ],
      "execution_count": 6,
      "outputs": [
        {
          "output_type": "stream",
          "name": "stdout",
          "text": [
            "50\n"
          ]
        }
      ]
    },
    {
      "cell_type": "markdown",
      "metadata": {
        "id": "Ozvz8KNH5vzW"
      },
      "source": [
        "## Strings"
      ]
    },
    {
      "cell_type": "code",
      "metadata": {
        "colab": {
          "base_uri": "https://localhost:8080/"
        },
        "id": "RLfI9yDG5x-L",
        "outputId": "d4871e22-f8aa-4d99-c6cb-5759f13e1ade"
      },
      "source": [
        "print(\"COSMOLOGY\")"
      ],
      "execution_count": 7,
      "outputs": [
        {
          "output_type": "stream",
          "name": "stdout",
          "text": [
            "COSMOLOGY\n"
          ]
        }
      ]
    },
    {
      "cell_type": "code",
      "metadata": {
        "colab": {
          "base_uri": "https://localhost:8080/"
        },
        "id": "o31Ui-0a53Rb",
        "outputId": "93d868ff-a29f-4730-aaec-011489914741"
      },
      "source": [
        "a=\"COSMOLOGY\"\n",
        "print(a[3])"
      ],
      "execution_count": 8,
      "outputs": [
        {
          "output_type": "stream",
          "name": "stdout",
          "text": [
            "M\n"
          ]
        }
      ]
    },
    {
      "cell_type": "code",
      "metadata": {
        "colab": {
          "base_uri": "https://localhost:8080/"
        },
        "id": "0wFWd2kK5-lp",
        "outputId": "13df233d-230f-41ec-e651-1f2b076a7f6f"
      },
      "source": [
        "for x in a:\n",
        "  print(x)"
      ],
      "execution_count": 10,
      "outputs": [
        {
          "output_type": "stream",
          "name": "stdout",
          "text": [
            "C\n",
            "O\n",
            "S\n",
            "M\n",
            "O\n",
            "L\n",
            "O\n",
            "G\n",
            "Y\n"
          ]
        }
      ]
    },
    {
      "cell_type": "code",
      "metadata": {
        "id": "UU08jGnc6Dsr"
      },
      "source": [
        "lst=[44,7,9,2,6,0,1,6]"
      ],
      "execution_count": 11,
      "outputs": []
    },
    {
      "cell_type": "code",
      "metadata": {
        "colab": {
          "base_uri": "https://localhost:8080/"
        },
        "id": "nLA1zjpi6Rce",
        "outputId": "8c087fbf-8a6f-42b8-dc78-dff560cf99ac"
      },
      "source": [
        "lst[3:7]"
      ],
      "execution_count": 12,
      "outputs": [
        {
          "output_type": "execute_result",
          "data": {
            "text/plain": [
              "[2, 6, 0, 1]"
            ]
          },
          "metadata": {},
          "execution_count": 12
        }
      ]
    },
    {
      "cell_type": "code",
      "metadata": {
        "colab": {
          "base_uri": "https://localhost:8080/"
        },
        "id": "X8n6hkip6WF3",
        "outputId": "0cfc4fc1-0e03-45de-b8a9-86c04e1f53e9"
      },
      "source": [
        "lst[-5:-1]"
      ],
      "execution_count": 14,
      "outputs": [
        {
          "output_type": "execute_result",
          "data": {
            "text/plain": [
              "[2, 6, 0, 1]"
            ]
          },
          "metadata": {},
          "execution_count": 14
        }
      ]
    },
    {
      "cell_type": "code",
      "metadata": {
        "id": "pUrxpVQu6cJA"
      },
      "source": [
        ""
      ],
      "execution_count": null,
      "outputs": []
    }
  ]
}