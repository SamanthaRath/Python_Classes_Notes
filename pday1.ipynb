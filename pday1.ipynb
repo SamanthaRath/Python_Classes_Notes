{
  "nbformat": 4,
  "nbformat_minor": 0,
  "metadata": {
    "colab": {
      "name": "pday1.ipynb",
      "provenance": []
    },
    "kernelspec": {
      "name": "python3",
      "display_name": "Python 3"
    },
    "language_info": {
      "name": "python"
    }
  },
  "cells": [
    {
      "cell_type": "code",
      "metadata": {
        "colab": {
          "base_uri": "https://localhost:8080/"
        },
        "id": "zrk0YPqLtM5k",
        "outputId": "1b4f49d7-ff87-454a-fdc4-9b9c44c6a04b"
      },
      "source": [
        "print(\"HELLO SAMANTHA\")"
      ],
      "execution_count": 2,
      "outputs": [
        {
          "output_type": "stream",
          "name": "stdout",
          "text": [
            "HELLO SAMANTHA\n"
          ]
        }
      ]
    },
    {
      "cell_type": "markdown",
      "metadata": {
        "id": "kJK7Up2W7_zc"
      },
      "source": [
        "Python Variables\n"
      ]
    },
    {
      "cell_type": "code",
      "metadata": {
        "id": "GF7lTHlJ8Fjq"
      },
      "source": [
        "x=5\n",
        "y=\"Hey there\""
      ],
      "execution_count": 1,
      "outputs": []
    },
    {
      "cell_type": "code",
      "metadata": {
        "colab": {
          "base_uri": "https://localhost:8080/"
        },
        "id": "sh6GuPeiS6qG",
        "outputId": "83b98a2a-a4e2-46af-c32b-9a67e5915b25"
      },
      "source": [
        "print(x)"
      ],
      "execution_count": 2,
      "outputs": [
        {
          "output_type": "stream",
          "name": "stdout",
          "text": [
            "5\n"
          ]
        }
      ]
    },
    {
      "cell_type": "code",
      "metadata": {
        "colab": {
          "base_uri": "https://localhost:8080/"
        },
        "id": "BdpEj0ViS9NS",
        "outputId": "6e3e269d-1db3-4611-82a8-a8ab77b82e1c"
      },
      "source": [
        "print(y)"
      ],
      "execution_count": 3,
      "outputs": [
        {
          "output_type": "stream",
          "name": "stdout",
          "text": [
            "Hey there\n"
          ]
        }
      ]
    },
    {
      "cell_type": "markdown",
      "metadata": {
        "id": "Gehsf05mTJ4n"
      },
      "source": [
        "Datatypes"
      ]
    },
    {
      "cell_type": "code",
      "metadata": {
        "id": "HA7JmXlrTT2X"
      },
      "source": [
        "x=5\n",
        "y=\"5.0\"\n",
        "z=5.0"
      ],
      "execution_count": 6,
      "outputs": []
    },
    {
      "cell_type": "code",
      "metadata": {
        "colab": {
          "base_uri": "https://localhost:8080/"
        },
        "id": "rNdMcxdTTe7M",
        "outputId": "c131d52f-243d-448a-85fe-9fe9dde6b3b8"
      },
      "source": [
        "print(type(x))\n",
        "print(type(y))\n",
        "print(type(z))"
      ],
      "execution_count": 7,
      "outputs": [
        {
          "output_type": "stream",
          "name": "stdout",
          "text": [
            "<class 'int'>\n",
            "<class 'str'>\n",
            "<class 'float'>\n"
          ]
        }
      ]
    },
    {
      "cell_type": "code",
      "metadata": {
        "colab": {
          "base_uri": "https://localhost:8080/"
        },
        "id": "DIMLCHgcTmhH",
        "outputId": "3cfec0dd-e297-4910-bcc4-f4c1fb877bb0"
      },
      "source": [
        "r=x+z\n",
        "print(r)"
      ],
      "execution_count": 10,
      "outputs": [
        {
          "output_type": "stream",
          "name": "stdout",
          "text": [
            "10.0\n"
          ]
        }
      ]
    },
    {
      "cell_type": "code",
      "metadata": {
        "colab": {
          "base_uri": "https://localhost:8080/"
        },
        "id": "2JODv5e6T352",
        "outputId": "290723a8-2478-4128-8406-e4cbfb66b200"
      },
      "source": [
        "#type casting\n",
        "s=x+int(z)\n",
        "print(s)"
      ],
      "execution_count": 13,
      "outputs": [
        {
          "output_type": "stream",
          "name": "stdout",
          "text": [
            "10\n"
          ]
        }
      ]
    },
    {
      "cell_type": "markdown",
      "metadata": {
        "id": "YvOgvmGkU0Bh"
      },
      "source": [
        "Python Operators"
      ]
    },
    {
      "cell_type": "markdown",
      "metadata": {
        "id": "-IMEjnkPWDwk"
      },
      "source": [
        "'+' Addition\n",
        "\n",
        "'-' Subtraction\n",
        "\n",
        "'*' Multiplication\n",
        "\n",
        "'/' Division\n",
        "\n",
        "'//'Floor division\n",
        "\n",
        "'%' Modulo\n",
        "\n",
        "'**'Exponential"
      ]
    },
    {
      "cell_type": "code",
      "metadata": {
        "colab": {
          "base_uri": "https://localhost:8080/"
        },
        "id": "U2J8jizyWXV_",
        "outputId": "c0b7fb2d-6415-4a7e-d535-07e4288c0763"
      },
      "source": [
        "a=5/3\n",
        "print(a)"
      ],
      "execution_count": 15,
      "outputs": [
        {
          "output_type": "stream",
          "name": "stdout",
          "text": [
            "1.6666666666666667\n"
          ]
        }
      ]
    },
    {
      "cell_type": "code",
      "metadata": {
        "colab": {
          "base_uri": "https://localhost:8080/"
        },
        "id": "R3enu9a8WcBb",
        "outputId": "e1a38fa5-3c62-48a1-b235-603a49ae20d9"
      },
      "source": [
        "b=8%3\n",
        "print(b)"
      ],
      "execution_count": 16,
      "outputs": [
        {
          "output_type": "stream",
          "name": "stdout",
          "text": [
            "2\n"
          ]
        }
      ]
    },
    {
      "cell_type": "code",
      "metadata": {
        "colab": {
          "base_uri": "https://localhost:8080/"
        },
        "id": "YeDdPPzvWi3x",
        "outputId": "dea6501c-3136-48db-acf8-9e97bdd98742"
      },
      "source": [
        "c=5//3\n",
        "print(c)"
      ],
      "execution_count": 17,
      "outputs": [
        {
          "output_type": "stream",
          "name": "stdout",
          "text": [
            "1\n"
          ]
        }
      ]
    },
    {
      "cell_type": "code",
      "metadata": {
        "colab": {
          "base_uri": "https://localhost:8080/"
        },
        "id": "ONIGCWE7Wpyd",
        "outputId": "211e30ec-5db2-480e-aebd-c641d902630e"
      },
      "source": [
        "c=20\n",
        "d=not(c<15 and c<30)\n",
        "print(d)"
      ],
      "execution_count": 18,
      "outputs": [
        {
          "output_type": "stream",
          "name": "stdout",
          "text": [
            "True\n"
          ]
        }
      ]
    },
    {
      "cell_type": "code",
      "metadata": {
        "colab": {
          "base_uri": "https://localhost:8080/"
        },
        "id": "8cjiE86AXF9U",
        "outputId": "c17449b7-aa6f-4126-bbc1-6923c15b7aae"
      },
      "source": [
        "a=6\n",
        "b=6\n",
        "print(a is b)"
      ],
      "execution_count": 19,
      "outputs": [
        {
          "output_type": "stream",
          "name": "stdout",
          "text": [
            "True\n"
          ]
        }
      ]
    },
    {
      "cell_type": "markdown",
      "metadata": {
        "id": "I25eaEBKXvKB"
      },
      "source": [
        "List: ordered, changeable, allows duplicate members"
      ]
    },
    {
      "cell_type": "code",
      "metadata": {
        "id": "YMUnpBl0X3a-"
      },
      "source": [
        "mylist=[\"january\",\"february\",\"march\"]"
      ],
      "execution_count": 20,
      "outputs": []
    },
    {
      "cell_type": "code",
      "metadata": {
        "colab": {
          "base_uri": "https://localhost:8080/"
        },
        "id": "fSGKQJXnYHEA",
        "outputId": "af4ba0c5-207c-4d19-eaff-cbdc2e7ece36"
      },
      "source": [
        "print(mylist)"
      ],
      "execution_count": 21,
      "outputs": [
        {
          "output_type": "stream",
          "name": "stdout",
          "text": [
            "['january', 'february', 'march']\n"
          ]
        }
      ]
    },
    {
      "cell_type": "code",
      "metadata": {
        "id": "NFrbtjuvYJlB"
      },
      "source": [
        "mylist[1]='june'"
      ],
      "execution_count": 23,
      "outputs": []
    },
    {
      "cell_type": "code",
      "metadata": {
        "colab": {
          "base_uri": "https://localhost:8080/"
        },
        "id": "cWJaGZuzYRcP",
        "outputId": "a2b48fdd-973e-4390-adee-e0c759a9a9b4"
      },
      "source": [
        "print(mylist)"
      ],
      "execution_count": 24,
      "outputs": [
        {
          "output_type": "stream",
          "name": "stdout",
          "text": [
            "['january', 'june', 'march']\n"
          ]
        }
      ]
    },
    {
      "cell_type": "code",
      "metadata": {
        "colab": {
          "base_uri": "https://localhost:8080/"
        },
        "id": "NgF07JlxYYkX",
        "outputId": "28ea432d-279e-4f3b-afde-f4a5820c6afc"
      },
      "source": [
        "l=len(mylist)\n",
        "print(l)"
      ],
      "execution_count": 25,
      "outputs": [
        {
          "output_type": "stream",
          "name": "stdout",
          "text": [
            "3\n"
          ]
        }
      ]
    },
    {
      "cell_type": "markdown",
      "metadata": {
        "id": "scQa-MVZZNal"
      },
      "source": [
        "Tuple: ordered,unchangeable, allows duplicate members"
      ]
    },
    {
      "cell_type": "code",
      "metadata": {
        "colab": {
          "base_uri": "https://localhost:8080/"
        },
        "id": "i57PX4eiZk9X",
        "outputId": "f6d83e52-2d43-41b2-c22e-484d400c5c2c"
      },
      "source": [
        "thistuple=(\"january\",\"february\",\"march\")\n",
        "print(thistuple)"
      ],
      "execution_count": 26,
      "outputs": [
        {
          "output_type": "stream",
          "name": "stdout",
          "text": [
            "('january', 'february', 'march')\n"
          ]
        }
      ]
    },
    {
      "cell_type": "code",
      "metadata": {
        "colab": {
          "base_uri": "https://localhost:8080/",
          "height": 35
        },
        "id": "aSUJN-6gZ1St",
        "outputId": "bdc4c73b-1956-4d2f-e0f1-39c260c2697a"
      },
      "source": [
        "thistuple[2]"
      ],
      "execution_count": 27,
      "outputs": [
        {
          "output_type": "execute_result",
          "data": {
            "application/vnd.google.colaboratory.intrinsic+json": {
              "type": "string"
            },
            "text/plain": [
              "'march'"
            ]
          },
          "metadata": {},
          "execution_count": 27
        }
      ]
    },
    {
      "cell_type": "code",
      "metadata": {
        "id": "nWOdeuA6Z4qb"
      },
      "source": [
        ""
      ],
      "execution_count": null,
      "outputs": []
    },
    {
      "cell_type": "markdown",
      "metadata": {
        "id": "m68OvHIBd-b9"
      },
      "source": [
        "Set: unordered,unchangeable,unindexed.No duplicate members"
      ]
    },
    {
      "cell_type": "code",
      "metadata": {
        "colab": {
          "base_uri": "https://localhost:8080/"
        },
        "id": "b2n0tMeEerBx",
        "outputId": "81119a0c-4919-49f8-acd3-44aa6f10c06d"
      },
      "source": [
        "myset={\"monday\",\"monday\",\"wednesday\"}\n",
        "print(myset)"
      ],
      "execution_count": 29,
      "outputs": [
        {
          "output_type": "stream",
          "name": "stdout",
          "text": [
            "{'wednesday', 'monday'}\n"
          ]
        }
      ]
    },
    {
      "cell_type": "markdown",
      "metadata": {
        "id": "ooumDnehfNRG"
      },
      "source": [
        "Dictionary:Key-Value Pair"
      ]
    },
    {
      "cell_type": "code",
      "metadata": {
        "id": "4480D3elfUhT"
      },
      "source": [
        "thisdict = {\n",
        "    \"brand\":\"Gucci\",\n",
        "    \"type\" : \"Dress\",\n",
        "    \"color\" : \"black\"\n",
        "}"
      ],
      "execution_count": 30,
      "outputs": []
    },
    {
      "cell_type": "code",
      "metadata": {
        "colab": {
          "base_uri": "https://localhost:8080/"
        },
        "id": "HRw8n0EJfcCJ",
        "outputId": "2f2f4498-b486-4459-8a14-2f71b0860964"
      },
      "source": [
        "print(thisdict)"
      ],
      "execution_count": 31,
      "outputs": [
        {
          "output_type": "stream",
          "name": "stdout",
          "text": [
            "{'brand': 'Gucci', 'type': 'Dress', 'color': 'black'}\n"
          ]
        }
      ]
    },
    {
      "cell_type": "code",
      "metadata": {
        "colab": {
          "base_uri": "https://localhost:8080/",
          "height": 35
        },
        "id": "ohTEKxK3fei_",
        "outputId": "46035ce5-aec5-4a7a-ceff-ddf057ff19d9"
      },
      "source": [
        "thisdict[\"color\"]"
      ],
      "execution_count": 33,
      "outputs": [
        {
          "output_type": "execute_result",
          "data": {
            "application/vnd.google.colaboratory.intrinsic+json": {
              "type": "string"
            },
            "text/plain": [
              "'black'"
            ]
          },
          "metadata": {},
          "execution_count": 33
        }
      ]
    },
    {
      "cell_type": "markdown",
      "metadata": {
        "id": "JIOlUyjffxQF"
      },
      "source": [
        "Loops"
      ]
    },
    {
      "cell_type": "code",
      "metadata": {
        "colab": {
          "base_uri": "https://localhost:8080/"
        },
        "id": "58lpsdmWf0iR",
        "outputId": "4d5fbd87-5345-492d-d770-5d677823643a"
      },
      "source": [
        "i=0\n",
        "while(i<5):\n",
        "  print(\"My Python Class\")\n",
        "  i+=1"
      ],
      "execution_count": 34,
      "outputs": [
        {
          "output_type": "stream",
          "name": "stdout",
          "text": [
            "My Python Class\n",
            "My Python Class\n",
            "My Python Class\n",
            "My Python Class\n",
            "My Python Class\n"
          ]
        }
      ]
    },
    {
      "cell_type": "code",
      "metadata": {
        "colab": {
          "base_uri": "https://localhost:8080/"
        },
        "id": "QG44Ij-fgFRb",
        "outputId": "5ea02251-a297-4432-d231-82f343988505"
      },
      "source": [
        "for i in range(10):\n",
        "  print(i)"
      ],
      "execution_count": 35,
      "outputs": [
        {
          "output_type": "stream",
          "name": "stdout",
          "text": [
            "0\n",
            "1\n",
            "2\n",
            "3\n",
            "4\n",
            "5\n",
            "6\n",
            "7\n",
            "8\n",
            "9\n"
          ]
        }
      ]
    },
    {
      "cell_type": "code",
      "metadata": {
        "colab": {
          "base_uri": "https://localhost:8080/"
        },
        "id": "iWZl-rYsgUX-",
        "outputId": "169041e5-29d2-4027-9142-560432836781"
      },
      "source": [
        "for i in range(3,10,2):\n",
        "  print(i)"
      ],
      "execution_count": 36,
      "outputs": [
        {
          "output_type": "stream",
          "name": "stdout",
          "text": [
            "3\n",
            "5\n",
            "7\n",
            "9\n"
          ]
        }
      ]
    },
    {
      "cell_type": "code",
      "metadata": {
        "id": "wR9EeOuYgePV"
      },
      "source": [
        ""
      ],
      "execution_count": null,
      "outputs": []
    }
  ]
}